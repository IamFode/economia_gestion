{
 "cells": [
  {
   "cell_type": "markdown",
   "id": "fdc5e150-3729-465b-b9c2-06a12b079dec",
   "metadata": {},
   "source": [
    "# Modelo de Solow"
   ]
  },
  {
   "cell_type": "code",
   "execution_count": 2,
   "id": "818c962a-0805-44b9-9273-c0b99b3f0663",
   "metadata": {},
   "outputs": [],
   "source": [
    "# librerias\n",
    "from matplotlib import pyplot as plt"
   ]
  },
  {
   "cell_type": "markdown",
   "id": "7035dea7-a9c5-49f2-a866-7d108fa3855a",
   "metadata": {},
   "source": [
    "## Función de producción\n",
    "\n",
    "La producción $Y$, se obtiene usando capital $K$ y trabajo $L$. Así en tiempo $t$  es:\n",
    "\n",
    "$$Y_t=AF\\left(K_t,e^{\\gamma t}L_t\\right)$$\n",
    "\n",
    "- A>0 es la productividad total de los factores. Es una variable exogena, de hecho lo que se estudia en crecimiento económico es en edogeneizar esta variable exogena.\n",
    "- $e^{\\gamma t}$ es la eficiencia. \n",
    "- $\\gamma$ tasa de crecimiento de la eficiencia. Si $\\gamma=0.2$, entonces podemos decir que la tasa de crecimiento es de 20%.\n",
    "\n",
    "El trabajo es una variable exogena en el modelo. de donde\n",
    "$$L_t=e^{nt}L_0 \\mbox{ donde } L_0>0$$\n",
    "- $n\\geq 0$ es la tasa de crecimiento de la población\n"
   ]
  },
  {
   "cell_type": "markdown",
   "id": "3c4a8309-5894-45f6-ad35-77b984e845d5",
   "metadata": {},
   "source": [
    "## El tiempo y la tasa de crecimiento\n",
    "\n",
    "- Supongamos que el tiempo es continuo. Entonces,\n",
    "$$X_t=\\dfrac{dX_t}{d_t}.$$\n",
    "\n",
    "- Supongamos que el tiempo es discreto. Entonces,\n",
    "$$\\triangle X_t=X_{t+1}-X_t.$$\n",
    "\n",
    "- Tasa de progreso técnico o tecnológico y la tasa de crecimiento del trabajo:\n",
    "\n",
    "$$T_t=e^{\\gamma t} \\quad \\Rightarrow \\quad \\dot{T}_t=\\gamma e^{\\gamma t} = \\gamma t_t \\quad  \\Rightarrow \\quad \\dfrac{\\dot{T}_t}{T_t}=\\gamma$$\n",
    "\n",
    "- $n$ -> Tasa de crecimiento de la población (trabajador).\n",
    "- $\\gamma$ -> Tasa del progreso efectivo.\n",
    "\n",
    "$$L_t=e^{nt}L_0\\quad \\Rightarrow \\quad \\dot{L}_t=ne^{nt}L_0 = nL_t \\quad \\Rightarrow \\quad \\dfrac{\\dot{L}_t}{L_t}=n.$$\n",
    "\n",
    "La tasa de crecimiento del trabajo efectivo, $E_t=T_tL_t$, es\n",
    "$$\\dfrac{E_t}{E_t}=\\dfrac{T_t}{T_t}+\\dfrac{L_t}{L_t}=\\gamma + n$$\n",
    "\n",
    "Es decir, la tasa de crecimiento del trabajo efectivo es la suma de la tasa de progreso técnico $\\gamma$ más la tasa de crecimiento de la población $n$."
   ]
  },
  {
   "cell_type": "markdown",
   "id": "79f7a54d-4f27-44dd-9419-7693cfb73a4e",
   "metadata": {},
   "source": [
    "## Propiedades de la función de producción \n",
    "\n",
    "### Rendimientos constantes a escala.\n",
    "\n",
    "- La función de producción es homogénea de grado uno. Es decir, podemos cambiar la escala de la función de producción. Esto en el corto plazo. Sólo depende de la cantidad y no del precio. \n",
    "\n",
    "- No importa si existe muchas expresas o una empresa, lo que importa es la producción agregada.\n",
    "\n",
    "### La productividad marginal.\n",
    "\n",
    "- La función de producción en ambos argumentos es creciente. Lo que significa que la productividad marginal de todos los factores es positiva. Es decir, al aumentar la cantidad usada de cualquier factor, aumenta la producción\n",
    "\n",
    "$$PM_k = A\\dfrac{\\partial F}{\\partial K_t}>0 \\quad \\mbox{y}\\quad PM_L=A\\dfrac{\\partial F}{\\partial \\left(e^{\\gamma t}L_t\\right)}>0$$\n",
    "\n",
    "- Las derivadas segundas con respecto a ambos argumentos son negativas. Es decir, Cuando aumentamos el uso del input manteniendo constante el otro, cada vez aumenta menos.\n",
    "\n",
    "$$\\dfrac{\\partial PM_K}{\\partial K}=A\\dfrac{\\partial^2 F}{\\partial K^2_t}<0\\quad \\mbox{y}\\quad \\dfrac{\\partial PM_L}{\\partial L}=A\\dfrac{\\partial^2 F}{\\partial \\left(e^{\\gamma t}K_t\\right)^2}<0$$\n",
    "\n",
    "### Las condiciones Inada\n",
    "\n",
    "- Cuando la productividad marginal se acerca a cero, cuando la cantidad usada del factor tiende al infinito.\n",
    "\n",
    "$$\\lim_{K_t\\to \\infty} \\dfrac{\\partial F}{\\partial K_t}=\\lim_{e^{\\gamma t}L_t\\to \\infty}\\dfrac{\\partial F}{\\partial \\left(e^{\\gamma t}\\right)L_t}=0$$\n",
    "\n",
    "- La productividad marginal tiende a infinito, cuando la cantidad usada del factor tiende a cero.\n",
    "\n",
    "$$\\lim_{K_t\\to 0}\\dfrac{\\partial F}{\\partial K_t}=\\lim_{e^{\\gamma t}L_t\\to 0}\\dfrac{\\partial F}{\\partial\\left(e^{\\gamma t}\\right)L_t}=\\infty$$"
   ]
  },
  {
   "cell_type": "markdown",
   "id": "bc197814-6183-4b01-bb3b-04388f455603",
   "metadata": {},
   "source": [
    "### La productividad y la intensidad de capital I\n",
    "\n",
    "La homogeneidad de grado $1$ implica que la productividad por unidad de eficiencia de trabajose puede escribir como una función del capital por unidad de eficiencia del trabajo:\n",
    "$$Y_t=AF\\left(K_t,e^{\\gamma t}L_t\\right)=e^{\\gamma t}L_t AF\\left(\\dfrac{K_t}{e^{\\gamma t}L_t},1\\right)=e^{\\gamma t}L_tAf(k_t)$$\n",
    "donde $k_t=\\dfrac{K_t}{e^{\\gamma t}L_t}$ es el capital por unidad de trabajo efectivo. La producción por unidad de trabajo efectivo es:\n",
    "$$y_t=Af(k_t)$$\n",
    "donde $y_t=\\dfrac{Y_t}{e^{\\gamma t}L_t}$\n",
    "\n",
    "### La productividad y la intensidad de capital II\n"
   ]
  },
  {
   "cell_type": "markdown",
   "id": "4b266381-875c-4d81-aa60-8480df996313",
   "metadata": {},
   "source": [
    "Las productividades marginales de los factores son funciones del ratio de capital sobre trabajo efectivo:\n",
    "\n",
    "$$PM_K = A\\dfrac{\\partial F(K_t,e^{\\gamma t}L_t)}{\\partial K_t}=A\\dfrac{\\partial\\left[e^{\\gamma t}L_tf(k_t)\\right]}{\\partial K_t}=e^{\\gamma t}L_tAf'(k_t)\\dfrac{1}{e^{\\gamma t}L_t}=Af'(k_t)>0$$\n",
    "\n",
    "$$PM_L = A\\dfrac{\\partial F(K_t,e^{\\gamma t}L_t)}{\\partial L_t}=A\\dfrac{\\partial\\left[e^{\\gamma t}L_t f(k_t)\\right]}{\\partial L_t}=e^{\\gamma t}Af(k_t)+e^{\\gamma t}L_t Af'(k_t)\\dfrac{-K_t}{\\left(e^{\\gamma t}L_t\\right)^2}=A\\left[f(k_t)-k_tf'(k_t)\\right]e^{\\gamma t}.$$\n",
    "\n",
    "\n",
    "### La productividad y la intensidad de capital III\n",
    "$$\\dfrac{\\partial PM_k}{\\partial K}=A\\dfrac{\\partial^2F(K_t,e^{\\gamma t}L_t)}{\\partial K_t^2}=A\\dfrac{\\partial f'(k_t)}{\\partial K_t}=Af''(k_t)1\\dfrac{1}{e^{\\gamma t}L_t}<0.$$\n",
    "\n",
    "Lo que implica según las condiciones de Inada que\n",
    "$$\\lim_{k_t\\to \\infty}f'(k_t)=0\\qquad \\mbox{y}\\qquad \\lim_{k_t\\to 0}f'(k_t)=\\infty$$"
   ]
  },
  {
   "cell_type": "markdown",
   "id": "402dffec-d2b4-4c7d-b346-f16673c00186",
   "metadata": {},
   "source": [
    "## La función de producción Cobb-Douglas \n",
    "$$Y_t=AK_t^\\alpha\\left(e^{\\gamma t}L_t\\right)^\\beta$$\n",
    "\n",
    "Donde $A>0$ y $0<\\alpha<1.$ Si $\\beta=1-\\alpha$, entonces la función es homogénea de grado $1$ y exhibe rendimientos constantes a escala\n",
    "\n",
    "$$(\\mu K_t)^\\alpha(e^{\\gamma t}\\mu L_t)^\\beta =\\mu^{\\alpha+\\beta}AK_t^\\alpha\\left(e^{\\gamma t}\\right)^\\beta$$\n",
    "\n",
    "Luego,\n",
    "$$\\dfrac{Y_t}{e^{\\gamma t}L_t}=AK^\\alpha \\left(e^{\\gamma t}L_t\\right)^\\beta \\left(e^{\\gamma t}L_t\\right)^{-1}=AK^\\alpha \\left(e^{\\gamma t}L_t\\right)^{1-\\alpha-1}=A\\left(\\dfrac{K_t}{e^{\\gamma t}L_t}\\right)^\\alpha \\quad \\Rightarrow \\quad y_t = Ak_t^\\alpha.$$\n",
    "\n",
    "La productividad marginal de los factores son:\n",
    "\n"
   ]
  },
  {
   "cell_type": "markdown",
   "id": "5d84435b-b35d-4544-be21-7d33ed713b1a",
   "metadata": {},
   "source": [
    "$$PM_K = A\\dfrac{\\partial\\left(\\dfrac{K_t}{e^{\\gamma t}L_t}\\right)^\\alpha}{\\partial K_t} = A\\alpha\\left(\\dfrac{K_t}{e^{\\gamma t}L_t}\\right)^{\\alpha-1}\\cdot \\dfrac{1}{e^{\\gamma t}L_t}$$\n"
   ]
  },
  {
   "cell_type": "markdown",
   "id": "856333f1-d83b-4a7a-b83f-fe6afffc6720",
   "metadata": {},
   "source": [
    "## Competencia perfecta y mercado de capitales\n",
    "\n",
    "#### Hipotesis:\n",
    "\n",
    "- Ninguno tiene capacidad para decidir por lo precios. Supondremos una única empresa.\n",
    "\n",
    "- Los bienes decapital se alquilan.\n"
   ]
  },
  {
   "cell_type": "markdown",
   "id": "3408e60f-a77e-4159-824e-ad2b374e36cc",
   "metadata": {},
   "source": [
    "## Máximización de los beneficios. \n",
    "\n",
    "Sabiendo que las empresas tomas sus precios como dados.\n",
    "Las empresa escogen capital y trabajo con el objetivo de maximizar sus beneficios:\n",
    "\n",
    "$$\\max_{K_t,L_t}P_tAF(K_t,e^{\\gamma t}L_t)-\\Phi_t K_t - W_tL_t$$\n",
    "\n",
    "- $P_t$ -> Precio al que vende sus productos.\n",
    "\n",
    "- $\\Phi_t$ es el precio rental nominal del capital y del trabajo ó factoral capital.\n",
    "\n",
    "- $W_t$ Precio renta del factor trabajo.\n",
    "\n",
    "Los beneficios se máximizan cuando son iguales a sus precios rentas nominales. Es decir,\n",
    "\n",
    "$$P_t A\\dfrac{\\partial (K_t,e^{\\gamma t} L_t)}{\\partial K_t} = P_tAf'(k_t) = \\Phi_t \\quad \\Leftrightarrow \\quad f'(k_t)=\\phi_t.$$\n",
    "\n",
    "donde $\\phi=\\dfrac{\\Phi_t}{P_t}$ es el precio renta real del capital. Es decir, la productividad marginal del capital es igual a la renta real del capital.\n",
    "\n",
    "De manera similar para el factor trabajo.\n",
    "\n",
    "$$P_tA\\dfrac{\\partial F(K_t,e^{\\gamma t}L_t)}{\\partial(e^{\\gamma t}L_t)} e^{\\gamma t} = P_t\\left[f(k_t)-k_tf'(k_t)\\right]e^{\\gamma t} = W_t \\quad \\Leftrightarrow \\quad A\\left[f(k_t)-k_tf'(k_t)\\right]=w_t$$\n",
    "\n",
    "donde $w_t=e^{-\\gamma t}W_t/P_t$ es el salario real sin tendencia o el salario real por unidad de trabajo efectivo. Es decir, la productividad marginal del trabajo efectivo es igual al salario por unidad de trabajo efectivo."
   ]
  },
  {
   "cell_type": "markdown",
   "id": "86c36722-ff85-4379-9710-7e73b22381ac",
   "metadata": {},
   "source": [
    "## La distribución de la renta: Beneficio cero.\n",
    "\n",
    "Se satisface el teorema de Euler para una función homogénea de grado 1:\n",
    "\n",
    "$$F(K,L) = \\dfrac{\\partial F(K,L)}{\\partial K}K+\\dfrac{\\partial F(K.L)}{\\partial L}L$$\n",
    "\n",
    "Por otro lado, la comptencia perfecta significa que \n",
    "\n",
    "$$\\dfrac{\\partial F(K,L)}{\\partial K}=\\dfrac{W}{P} \\quad \\mbox{y}\\}\\quad \\dfrac{\\partial F(K.L)}{\\partial L} = \\dfrac{\\Phi=R}{P}.$$\n",
    "\n",
    "Es decir, la productividad marginal del trabajo es igual al salario real. Y la productividad marginal del capital es igual al precio de renta real.\n",
    "\n",
    "Entonces los beneficios son cero\n",
    "\n",
    "$$\\Pi = PY-WL-RK=PAF(K,L)-\\dfrac{\\partial F(K,L)}{\\partial K}K-\\dfrac{\\partial F(K.L)}{\\partial L}L=0.$$\n",
    "\n",
    "Esto nos dice que en condiciones de rendimientos constantes a escala y competencia perfecta los beneficios económicos son cero. Poero no los llamados beneficios contables que serían $\\Pi_C = PY-WL=RK$. Este último es igual a la retribución del factor capital.\n",
    "\n",
    "Si los beneficios son cero\n",
    "\n",
    "$$\\Pi = PY-WL-RK=0$$\n",
    "\n",
    "Entonces, se sigue que la renta se dedica totalmente a retribuir los factores de producción:\n",
    "\n",
    "$$PY=WL+RK$$\n",
    "\n",
    "Si divido ambos lados por PY, se tiene\n",
    "\n",
    "$$\\dfrac{WL}{PY}+\\dfrac{RK}{PY}=1$$\n",
    "\n",
    "Donde $\\dfrac{WL}{PY}$ es la participación de la renta del trabajo en la renta total y $\\dfrac{RK}{PY}$ es la participación de renta de capital en la renta total que suma 1. Por ejemplo la participación de la renta del trabajo es $30\\%$ y la de participación de renta de capital es $70\\%$ "
   ]
  },
  {
   "cell_type": "markdown",
   "id": "2779e85e-5d6f-44d0-a2ef-4bb124bdb356",
   "metadata": {},
   "source": [
    "## La función de producción Cobb-Doublas II\n",
    "\n",
    "Las derivadas parciales y la distribución\n",
    "\n",
    "$$\\dfrac{\\partial Y_t}{\\partial K_t} = \\alpha AK^{\\alpha-1}_t \\left[(1+\\gamma)^t L_t\\right]^{1-\\alpha}=\\alpha Ak_t^{\\alpha-1} = \\alpha\\dfrac{y_t}{k_t} = r_t+\\delta \\quad \\Rightarrow \\quad \\dfrac{(r_t+\\delta)k_t}{y_t}=\\alpha$$\n",
    "\n",
    "- $r_t$ -> Precio renta.\n",
    "\n",
    "$$\\dfrac{\\partial Y_t}{\\partial L_t} = \\alpha AK_t^\\alpha \\left[(1+\\gamma)^t L_t\\right]^{-\\alpha}(1+\\gamma)^t = (1-\\alpha)Ak_t^\\alpha=(1-\\alpha)y_t=w_t \\quad \\Rightarrow \\quad \\dfrac{w_t}{y_t}=1-\\alpha$$\n",
    "\n",
    "Donde $\\dfrac{(r_t+\\delta)k_t}{y_t}=\\alpha$ y $\\dfrac{w_t}{y_t}=1-\\alpha$ son  las participación total de los factores en la renta. Es decir,  el precio renta por el capital dividido por la renta total es igual a alfa. Si sumamos nos da 1.\n",
    "\n",
    "El en caso Cobb-Douglas no depende del tiempo. "
   ]
  },
  {
   "cell_type": "markdown",
   "id": "2de08eee-a0a3-4088-ac42-d7fd63773098",
   "metadata": {},
   "source": [
    "Todo renta se utiliza a retribuir los factores de producción"
   ]
  },
  {
   "cell_type": "markdown",
   "id": "ad76153a-5c2f-4682-86f3-55b0693ce382",
   "metadata": {},
   "source": [
    "## La acumulación de capital.\n",
    "\n",
    "- La variación de capital en $t$ es igual al nuevo capital que se añade a la producción menos el capital que se deprecia. \n",
    "\n",
    "$$\\dot{K_t}=I_t-\\delta K_t \\quad \\Rightarrow \\quad \\dfrac{\\dot{K}_t}{K_t}=\\dfrac{I_t}{K_t}-\\delta$$\n",
    "\n",
    "- $K_t$ -> Variación del capital en un momento $t$.\n",
    "\n",
    "- $I_t$ -> Inversión del capital \n",
    "\n",
    "- $\\delta$ -> Depreciación de capital.\n",
    "\n",
    "Teniendo en cuenta que el capital por trabajador efectivo es $k_t=K_t/E_t$. Derivando respecto del tiempo\n",
    "\n",
    "$$\\dfrac{\\dot{k}_t}{K_t}=\\dfrac{\\dot{K}_t}{K_t}-\\dfrac{\\dot{E}_t}{E_t}=\\dfrac{\\dot{K}_t}{K_t}-(\\gamma + n)$$\n",
    "\n",
    "Es decir, La tasa de variación de capital por trabajo efectivo es igual a tasa de variación de capital agregado menos $\\gamma + n$.\n",
    "\n",
    "Sustituyendo en la primera ecuación se tiene\n",
    "\n",
    "$$\\dot{k}_t=\\dot{i}_t - (\\delta+n+\\gamma)k_t$$\n",
    "\n",
    "Es decir, la variación de intensidad de capital  es igual a inversión agregada por trabajo efectivo por unidad de trabajo efectivo. por $(\\delta+n\\gamma)$ por intensidad de capital.\n",
    "\n",
    "- k_t -> Intensidad de capital. Cuanto capital usa cada trabajador.\n",
    "\n",
    "- i_t -> Inversión agregada dividido por trabajo efectivo."
   ]
  },
  {
   "cell_type": "markdown",
   "id": "5c3405ff-887e-440a-bc72-424cfbb22a89",
   "metadata": {},
   "source": [
    "## Los hogares\n",
    "\n",
    "Supondremos que el consumo de las familias es una fracción constante.\n",
    "\n",
    "$$C_t=(1-s)Y_t \\quad \\Rightarrow \\quad c_t = (1-s)y_t$$\n",
    "\n",
    "donde $c_t=\\dfrac{C_t}{e^{\\gamma t}L_t}$ es el consimo por trabajador efectivo.\n",
    "\n",
    "El ahorro de las familias es entonces:\n",
    "\n",
    "$$S_t=Y_t-C_t=sY_t$$\n",
    "\n",
    "y consumen la fracción restante. una fracción $1-s$\n",
    "\n",
    "- s -> la fracción que las familias dedican al ahorro. O tasa de inversión."
   ]
  },
  {
   "cell_type": "markdown",
   "id": "227fafce-413e-45a7-8510-89525cf2ec92",
   "metadata": {},
   "source": [
    "## Equilibrio\n",
    "\n",
    "- La oferta de bienes es igual a su demanda, lo que implica que el ahorro es igual a la inversión.\n",
    "\n",
    "$$Y_t=C_t+I_t \\quad \\Rightarrow \\quad S_t\\equiv Y_t-C_t =I_t \\quad \\Rightarrow \\quad I_t=sY_t$$\n",
    "\n",
    "Lo que nos dice que la inversión es una la fracción que las familias dedican al ahorro por la recta.\n",
    "\n",
    "Si dividiendo por $Y_t=C_t+I_t$ por $e^{\\gamma t}L_t$ el trabajo efectivo:\n",
    "\n",
    "$$y_t=c_t+i_t \\quad \\Rightarrow \\quad i_t=sy_t$$\n",
    "\n",
    "Las ecuaciones acontinuación describen toda la teoría:\n",
    "\n",
    "- Producción:\n",
    "$$y_t=Af(k_t)$$\n",
    "\n",
    "La producción por trabajo efectivo es una función de del capital por trabajador efectivo, siendo $A$ productividad total de los factores.\n",
    "\n",
    "- Distribución:\n",
    "\n",
    " a) Distribución de la renta\n",
    " \n",
    "$$Af'(k_t)=\\Phi_t$$\n",
    "\n",
    "La productividad marginal del capital es igual a sus precios renta reales del capital.\n",
    "\n",
    " b) La distribución del trabajo.\n",
    " \n",
    " $$A\\left[f(k_t)-k_tf'(k_t)\\right]=w_t$$\n",
    "\n",
    "La productividad marginal del trabajo es igual al salario real.\n",
    "\n",
    "- Asignación:\n",
    "\n",
    "$$c_t = y_t - i_t \\quad \\mbox{y}\\quad i_t=sy_t.$$\n",
    "\n",
    "El consumo por trabajador efectivo es igual al aouput menos la inversión por trabajador efectivo. Y la inversión es una gracción de la renta.\n",
    "\n",
    "- Acumulación:\n",
    "\n",
    "$$\\dot{k}_t = i_t - (\\sigma + n + \\gamma)k_t\\qquad k_0>0.$$\n",
    "\n",
    "Capital por trabajador sin tendencia. K_0 necesitamos siempre partir de un stock inicial. Esta última es la única que evoluciona en el tiempo.\n",
    "\n",
    "El modelo de Solow es un modelo dinamico. Describe la economía a lo largo del tiempo.\n",
    "\n",
    "Notemos que todas las variables dependen de $k_t$. Variable del estado.\n",
    "\n"
   ]
  },
  {
   "cell_type": "markdown",
   "id": "4c043b77-7a0e-4ba1-b1ca-8e763dc3e757",
   "metadata": {},
   "source": [
    "## La dinámica \n",
    "\n",
    "Notemos que \n",
    "$$i_t = sy_t \\quad \\mbox{y}\\quad y_t=Af(k_t)$$\n",
    "\n",
    "por lo que, el capital por unidad de trabajo efectivo evoluciona de acuerdo con la siguiente ecuación:\n",
    "\n",
    "$$\\dot{k}_t = sAf(k_t)-(\\delta + n + \\gamma)k_t$$\n",
    "\n",
    "Es decir, la variación de intensidad de capital es igual a la tasa de inversión por la producción por trabajo efectivo menos (la deprecición del capital más Tasa de progreso técnico mas la tasa de crecimiento del trabajo) todo esto por intesidad de capital.\n",
    "\n",
    "Recordemos que el capital inicial $k_0$ está dado. Todo el modelo se resume en esta última ecuación dada.\n",
    "\n",
    "En un tiempo discreto se tendría a que:\n",
    "\n",
    "$$k_{t+1}-k_t = \\ldots$$\n",
    "\n",
    "Es decir meto $k_0$ y saco $k_1$. Y así sucesivamente.\n",
    "\n",
    "Esta ecuación describe toda la senda de equilibro desde el tiempo $0$ al infinito.\n",
    "\n",
    "Ahora, dividamos $\\dot{k}_t = sAf(k_t)-(\\delta + n + \\gamma)k_t$ por $k_t$:\n",
    "\n",
    "$$\\gamma_{k,t}\\equiv \\dfrac{\\dot{k}_t}{k_t}=\\dfrac{sAf(k_t)}{k_t}-(\\delta + n + \\gamma).$$\n",
    "\n",
    "La tasa de variación de $k_t$ es igual sA de la productividad media ($h(k_t)=\\dfrac{f(k_t)}{k_t}$) menos una constante \n",
    "\n",
    "Siendo $h(k_t)=\\dfrac{f(k_t)}{k_t}$ una función decreciente de $k_t$ pues\n",
    "\n",
    "$$h'(k_t)=\\dfrac{f'(k_t)k_t-f(k_t)}{k_t^2}<0$$\n",
    "\n",
    "Que es una función concava ya que $f(k_t)>f'(k_t)$ por lo que podemos decir que la productivdad media del capital decrece cuando el capital aumenta. Y además tiende a infinito cuando $k$ tiende a $0$. Y además tiende a $0$ cuando $k$ tiende a $\\infty$.\n",
    "\n",
    "Caso Cobb-Douglas: $\\dfrac{f(k_t)}{k_t}=k_t^{\\alpha-1}$\n"
   ]
  },
  {
   "cell_type": "markdown",
   "id": "00ae9002-eb39-4139-a17b-c38795762ed1",
   "metadata": {},
   "source": [
    "## La senda de crecimiento equilibrado.\n",
    "\n",
    "Vamos a suponer que el capital efectivo permanece constante $k_t=0$. Es decir, la variación del capital $k$ por unidad de trabajo efectivo a lo largo del tiempo es $0$. Si $k$ es constante la renta por unidad de trabajo es constante ($y_t=Af(k_t)$), si $k$ es constante el precio de renta real del capital tambien es constante ($Af'(k_t)=\\Phi_t$), el salario por unidad de trabajo efectivo también es constante ($A\\left[f(k_t)-k_tf'(k_t)\\right]=w_t$), si $k$ es constante la inversión por unidad de trabajo efectivo es constante, si $k$ es constante el consumo por unidad de trabajo efectivo es constante. Por lo tanto,\n",
    "\n",
    "$$i = (\\delta+n+\\gamma)k \\quad \\Rightarrow \\quad \\dfrac{k}{y}=\\dfrac{s}{\\delta+n+\\gamma}$$"
   ]
  },
  {
   "cell_type": "markdown",
   "id": "d52214b4-b4f1-47fa-a449-c6c2f758ebfa",
   "metadata": {},
   "source": [
    "## El capital por trabajo efectivo a lo largo de la senda de crecimiento equilibrado\n",
    "\n",
    "Si $0=\\dot{k}_t = sAf(k_t)-(\\delta + n + \\gamma)k_t$, entonces\n",
    "\n",
    "$$sAf(k^*)=(\\delta+n\\gamma)k^*$$\n",
    "\n",
    "Caso Cobb-Douglas $f(k)=k^\\alpha$, entonces\n",
    "\n",
    "$$k^*=\\left(\\dfrac{sA}{\\delta+n\\gamma}\\right)^{\\frac{1}{1-\\alpha}}.$$"
   ]
  },
  {
   "cell_type": "markdown",
   "id": "4b112109-5515-4d0d-a378-02bcbdb044be",
   "metadata": {},
   "source": [
    "## Convergencia y unicidad\n",
    "\n",
    "La senda de crecimiento equilibrado es única y globalmente estable, sea cual sea la función de producción. Globalmente estable significa que partiendo de cualquier $K_0$ la economía converge a la senda de crecimiento equilibrado. Pase lo que pase siempre convergera al punto de equilibro. Es decir convergerá a la senda de crecimiento equilibrado."
   ]
  },
  {
   "cell_type": "markdown",
   "id": "6735a95f-711a-4930-bb82-fb39664fc5a0",
   "metadata": {},
   "source": [
    "## Crecimiento a largo plazo\n",
    "\n",
    "Podemos decir estado estacionario = crecimiento equilibrado.\n",
    "\n",
    "El capital por trabajador efectivo sea constante significa:\n",
    "\n",
    "Sea $x_t=\\dfrac{X_t}{e^{\\gamma t}L_t}$, una variable por unidad de trabajo efectivo. Luego una variable por trabajador se denota por $x_{L.t}=\\dfrac{X_t}{L_t}.$ dividido por el número de trabajadores. Es decir,\n",
    "\n",
    "$$\\gamma_{x,t}=\\dfrac{\\dot{X}_t}{X_t}- \\gamma - n = 0 \\quad \\Rightarrow \\quad \\dfrac{\\dot{X}_t}{x_t}=\\gamma + n$$\n",
    "\n",
    "Es decir a lo largo de la senda de crecimiento equilibrado todas las variables agregadas (capital,output, inversión, consumo, etc) crecen a la tasa $\\gamma+n$. En otras palabras, decir que las variables por trabajador efectivo permanecen constantes implican decir que las variables agregadas crecen $\\gamma + n$. A largo plazo es lo que pasa. Más aún,\n",
    "\n",
    "$$\\gamma_{X_L,t} = \\dfrac{\\dot{X}_t}{X_t}-n=\\gamma$$\n",
    "\n",
    "La tasa de crecimiento de una variable per capita, es igual a la tasa de crecimiento de la variable agregada menos la tasa de crecimiento del número de trabajadores es igual a $\\gamma$. Es decir, a lo largo de una senda de crecimiento equilibrado el capital por trabajador, el output por trabajador, el consumo por trabajador, la inversión por trabajador, crece a la tasa $\\gamma$.\n",
    "\n",
    "Es decir, el PIB percapita de los países a largo plazo ó la tasa de crecimiento del PIB percapita de los países será igual a la tasa del progreso tecnológico. \n"
   ]
  },
  {
   "cell_type": "markdown",
   "id": "c6cc4a9b-ae84-4da3-b024-92646673e813",
   "metadata": {},
   "source": [
    "## Crecimiento a largo plazo y progreso técnológico.\n",
    "\n",
    "El crecimiento a largo plazo de un país lo determina el progreso tecnológico. Si queremos entender el crecimiento a largo plazo tenemos que comprender que es lo que afecta a la tasa del progreso tecnológico de un país. CEs decir, cuanta innovación existirá en un país.\n",
    "\n",
    "Es otras palabras, el modelo se Solow nos dice que si tu quieres entender el crecimiento de la renta per cápita a largo plazo debes entender por que existe progreso tecnológico, que determina que haya o no progreso tecnológico en la sociedad. Significa también que en el largo plazo no es la acumulación de capital lo que determina el crecimiento tecnológico.\n",
    "\n",
    "Hemos supuesto que la productividad marginal del capital es decreciente por lo que acumular más capital no me generará mas crecimiento. "
   ]
  },
  {
   "cell_type": "markdown",
   "id": "7239a96b-15b0-4d59-a484-508aed80288c",
   "metadata": {},
   "source": [
    "## Estática comparada: Aumento de A y de s\n",
    "\n",
    "Sea por ejemplo,\n",
    "$$\\gamma_{k,t}=sAk_t^{\\alpha-1}-(\\delta-\\gamma +n)$$\n",
    "\n",
    "- Si incrementamos $\\triangle A>0$ o $\\triangle s>0$, entonces el stock de capital por trabajador efectivo aumentará, que implica que aumentará el output por trabajador efectivo, el salario por trabajador efectivo, el consumo por trabajador efectivo. Es decir, aumentará los factores. \n",
    "\n",
    "- A largo plazo un aumento de $s$ o $A$ provoca un imcremento de la tasa de crecimiento de la producción percapita? No. Estos shock no efecta la tasa de crecimiento pero si el nivel. \n",
    "\n",
    "- Que ocurre a corto plazo? Si hay un shock el capital por trabajador efectivo empieza a crecer. "
   ]
  },
  {
   "cell_type": "markdown",
   "id": "13e63c58-dab5-45f7-a8a1-bac1bd10a804",
   "metadata": {},
   "source": [
    "## Estática comparada: Aumento de n\n",
    "\n",
    "Sea por ejemplo,\n",
    "$$\\Gamma_{k,t}=sAk_t^{\\alpha-1}-(\\delta-\\gamma +n)$$\n",
    "\n",
    "- Si aumenta $\\triangle n>0$, entonces el valor de la constante $(\\delta - \\gamma + n)$ aumenta por lo que el capital por trabajador efectivo es menor. Las consecuencias a largo plazo es que el nivel de las variables por trabajador efectivo disminuyen, disminuye el capital por trabajador efectivo y por lo tanto disminuye el output por trabajador efectivo, el consumo, el salario, la inversión por trabajador efectivo.\n",
    "\n",
    "- Que ocurre con el crecimiento económico? La renta percapita no crece.\n",
    "\n",
    "- Qué ocurre a corto plazo? El crecimiento se realentiza. \n"
   ]
  },
  {
   "cell_type": "markdown",
   "id": "7f87e122-fa8b-406f-926c-39f36ac28778",
   "metadata": {},
   "source": [
    "## Diferencia de renta per cápita\n",
    "\n",
    "En resumen, Un aumento de la tasa de inversión o un aumento de la productividada total de los factores o una disminución de la tasa de crecimiento de la población provoca:\n",
    "\n",
    "1. Una aceleración del crecimiento a corto plazo y\n",
    "2. un aumento de la renta per cápita a largo plazo.\n",
    "\n",
    "El crecimiento a largo plazo no se ve afectado.\n",
    "\n",
    "Tres razones por el cúal un país es pobre:\n",
    "\n",
    "1. Bajas tasas de inversión.\n",
    "2. Altas tasas de crecimiento de la población.\n",
    "3. Baja productividad total de los factores.\n",
    "\n",
    "Aunque pueda diferir en el corto plazo."
   ]
  },
  {
   "cell_type": "markdown",
   "id": "ced7caa9-a377-4a5c-b74e-0856a50bb784",
   "metadata": {},
   "source": [
    "## Resumen\n",
    "\n",
    "- Existe una convergencia al equilibro al largo plazo.\n",
    "\n",
    "- Un pais crecerá o decrecerá según cuan lejos está de su estado estacionario.\n",
    "\n",
    "- El modelo de solow ofrece una teoría sobre las diferencias del PIB per cápita entre países y diferencias sobre las tasas de crecimiento.\n",
    "\n",
    "- "
   ]
  },
  {
   "cell_type": "markdown",
   "id": "827172c9-ed48-46a2-8f69-2d9bc3678fda",
   "metadata": {},
   "source": [
    "## Intensidad de capital y diferencias en renta per cápita\n",
    "\n",
    "La función de producción es $y=Ak^\\alpha$ y la condición de primer orden para el capital es $\\Phi=\\alpha Ak^{\\alpha-1}$. Supongamos $A=1$ (no hay diferencias en la productividad total de los factores) y $\\alpha=\\dfrac{1}{3}$, si $y=20$ entonces\n",
    "$$k=y^{\\frac{1}{\\alpha}}=20^3=8000\\quad \\mbox{y}\\quad \\Phi=20^{-\\frac{2}{3}}=0.136.$$\n",
    "\n",
    "Por lo tanto, las diferencias en la acumulación de capital físico (en la tasa de inversión) no pueden explicar las diferencias en renta per cápita entre países. Por dos razonoes:\n",
    "\n",
    "i. Porque las diferencias observables en renta per cápita son tan grandes que de acuerdo con el función de producción implicaría aún diferencias muchas mayores en el stock de capital por trabajador que empíricamente nose observan y\n",
    "ii. porque implicarían una enorme diferencia en la tasa de rendimiento del capital que no sería consistente con la obsercación de que el capital no fluye de los países ricos a los pobres masivamente.\n",
    "\n",
    "Lo que explica la diferencia de renta percapita entre países es $A$ productividad total de los factores. Si quiere entender la diferencia per cápita de debe entener la productividad total de los factores. \n",
    "\n",
    "Qué es $A$? Necesitamos elaborar una teoría de la productivadad total de los factores.\n",
    "¿Por qué la productividad total de los factores es diferentes en distintos países.?\n",
    "\n",
    "El modelo de Solow da respuesta como preguntas. El grueso esta en $A$."
   ]
  },
  {
   "cell_type": "code",
   "execution_count": null,
   "id": "c94412e1-46bc-414e-8e5f-fa0c5e29707b",
   "metadata": {},
   "outputs": [],
   "source": []
  }
 ],
 "metadata": {
  "kernelspec": {
   "display_name": "Python 3",
   "language": "python",
   "name": "python3"
  },
  "language_info": {
   "codemirror_mode": {
    "name": "ipython",
    "version": 3
   },
   "file_extension": ".py",
   "mimetype": "text/x-python",
   "name": "python",
   "nbconvert_exporter": "python",
   "pygments_lexer": "ipython3",
   "version": "3.10.6"
  }
 },
 "nbformat": 4,
 "nbformat_minor": 5
}
