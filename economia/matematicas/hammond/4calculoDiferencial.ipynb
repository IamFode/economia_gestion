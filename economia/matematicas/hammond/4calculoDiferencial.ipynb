{
 "cells": [
  {
   "cell_type": "markdown",
   "id": "dab2446c-25f9-4dd9-8d31-9466db5c785e",
   "metadata": {},
   "source": [
    "# Calculo diferencial"
   ]
  },
  {
   "cell_type": "code",
   "execution_count": 15,
   "id": "950ee7eb-4ade-48e5-8915-bea3f8746088",
   "metadata": {},
   "outputs": [],
   "source": [
    "#library\n",
    "from scipy.misc import derivative\n",
    "from sympy import *"
   ]
  },
  {
   "cell_type": "markdown",
   "id": "6c4bba6d-7f16-4b0a-9c62-07893a80119d",
   "metadata": {},
   "source": [
    "## 4.2 La pendiente de la tangente y la derivada"
   ]
  },
  {
   "cell_type": "markdown",
   "id": "11d6c6b4-cec0-45f7-9252-98982884474a",
   "metadata": {},
   "source": [
    "### Problemas"
   ]
  },
  {
   "cell_type": "markdown",
   "id": "108977db-cbd1-4f82-aa5a-4a62f7d2212e",
   "metadata": {},
   "source": [
    "#### 5."
   ]
  },
  {
   "cell_type": "markdown",
   "id": "8579ec63-4f31-4ce0-bf8a-e98361a60bad",
   "metadata": {},
   "source": [
    "##### (a)\n",
    "$$f^{'}(x)=\\dfrac{1}{x+1}$$\n",
    "\n",
    "$$f^{'}(x)=\\lim\\limits_{h\\to 0} \\dfrac{\\dfrac{1}{(x+h)+1} - \\dfrac{1}{x+1}}{h} = \\lim\\limits_{h\\to 0} \\dfrac{\\dfrac{(x+1)-(x+h+1)}{(x+1)\\left[(x+h)+1\\right]}}{h} =\\lim\\limits_{h\\to 0} \\dfrac{-1}{x^2+2hx+h+1} = \\dfrac{-1}{x^2+2hx+1}$$"
   ]
  },
  {
   "cell_type": "code",
   "execution_count": 18,
   "id": "9f032994-73ad-4870-833f-d8bccea5024f",
   "metadata": {},
   "outputs": [
    {
     "data": {
      "text/latex": [
       "$\\displaystyle - \\frac{1}{\\left(x + 1\\right)^{2}}$"
      ],
      "text/plain": [
       "-1/(x + 1)**2"
      ]
     },
     "execution_count": 18,
     "metadata": {},
     "output_type": "execute_result"
    }
   ],
   "source": [
    "# primera derivada\n",
    "x = Symbol('x')\n",
    "f = 1/(x+1)\n",
    "f.diff(x)"
   ]
  },
  {
   "cell_type": "markdown",
   "id": "56bae9a0-b39e-419f-8fc3-61b7a49e820a",
   "metadata": {},
   "source": [
    "##### (b)\n",
    "$$f(x) =x^2+3x$$"
   ]
  },
  {
   "cell_type": "code",
   "execution_count": 19,
   "id": "779f40db-cca5-4d50-b997-a5391cbfe0ff",
   "metadata": {},
   "outputs": [
    {
     "data": {
      "text/latex": [
       "$\\displaystyle 2 x + 3$"
      ],
      "text/plain": [
       "2*x + 3"
      ]
     },
     "execution_count": 19,
     "metadata": {},
     "output_type": "execute_result"
    }
   ],
   "source": [
    "# primera derivada\n",
    "x = Symbol('x')\n",
    "f = x**2 + 3*x\n",
    "f.diff(x)"
   ]
  },
  {
   "cell_type": "markdown",
   "id": "8ceb90ea-8395-43fe-b317-aa3de1da00a5",
   "metadata": {},
   "source": [
    "##### (c)\n",
    "$$f(x)=x^2-\\dfrac{2}{x}$$"
   ]
  },
  {
   "cell_type": "code",
   "execution_count": 20,
   "id": "d87af4ca-a273-4263-abce-822043d48bcd",
   "metadata": {},
   "outputs": [
    {
     "data": {
      "text/latex": [
       "$\\displaystyle 2 x + \\frac{2}{x^{2}}$"
      ],
      "text/plain": [
       "2*x + 2/x**2"
      ]
     },
     "execution_count": 20,
     "metadata": {},
     "output_type": "execute_result"
    }
   ],
   "source": [
    "# derivar\n",
    "x = Symbol('x')\n",
    "f = x**2 - (2/x)\n",
    "f.diff(x)"
   ]
  },
  {
   "cell_type": "markdown",
   "id": "315f1183-bf45-4a94-bfe0-a76f88a4c73b",
   "metadata": {},
   "source": [
    "#### 7\n",
    "##### (a)\n",
    "$$f(x) = ax^2+bx+c$$\n",
    "\n",
    "$\\displaystyle f^{'}(x) = \\lim_{h\\to 0}\\dfrac{[a(x+h)^2+b(x+h)+c]-(ax^2+bx+c)}{h} = \\lim_{h\\to 0}\\dfrac{h(2xa+ah+b)}{h} = \\lim_{h\\to 0} 2ax + b + ah = 2ax+b$"
   ]
  },
  {
   "cell_type": "markdown",
   "id": "b7ac82d5-d805-4fce-9032-1660f2c38b32",
   "metadata": {},
   "source": [
    "##### (b) \n",
    "$$2ax + b = 0 \\Longrightarrow x = -\\dfrac{b}{2a}$$"
   ]
  },
  {
   "cell_type": "markdown",
   "id": "30b334d8-4162-4757-b76d-44bec3216539",
   "metadata": {},
   "source": [
    "#### 8.\n",
    "\n",
    "##### (a)\n",
    "\n",
    "$$D(P) = a * bP$$\n",
    "\n",
    "$$D^{'}(P) = \\displaystyle\\lim_{h\\to 0} \\dfrac{a-b(P+h)-(a-bP)}{h} = \\lim_{h\\to 0} \\dfrac{-hb}{h} = -b$$"
   ]
  },
  {
   "cell_type": "markdown",
   "id": "ef416761-53e5-470e-ac5c-4533930836d2",
   "metadata": {},
   "source": [
    "##### (b)\n",
    "\n",
    "$$C(x) = p +qx^2$$\n",
    "\n",
    "$$C^{'}(x) = \\displaystyle\\lim_{h\\to 0} \\dfrac{p+q(x+h)^2 -p - qx^2}{h} = \\lim_{h\\to 0} 2qx + qh = 2qx$$"
   ]
  },
  {
   "cell_type": "markdown",
   "id": "149206d4-2a84-4024-8583-f13be027d883",
   "metadata": {},
   "source": [
    "#### 9.\n",
    "\n",
    "##### (a)\n",
    "\n",
    "$$\\left(\\sqrt{x+h} - \\sqrt{x}\\right)\\left(\\sqrt{x+h} + \\sqrt{x}\\right) = \\left(\\sqrt{x+h}\\right)^2-\\left(\\sqrt{x}\\right)^2 = h$$"
   ]
  },
  {
   "cell_type": "markdown",
   "id": "dab5ad95-c53d-42f8-a9b5-9547527e2555",
   "metadata": {},
   "source": [
    "##### (b), (c)\n",
    "\n",
    "$$f(x) = \\sqrt{x}$$\n",
    "\n",
    "$$\\displaystyle f^{'}(x) = \\lim_{h\\to 0} \\dfrac{\\sqrt{x+h}-\\sqrt{x}}{h} \\cdot \\dfrac{\\sqrt{x+h}+\\sqrt{x}}{\\left(\\sqrt{x+h}+\\sqrt{x}\\right)h} = \\displaystyle\\lim_{h\\to 0} \\dfrac{x+h-x}{\\left(\\sqrt{x+h}+\\sqrt{x}\\right)h} = \\dfrac{1}{2\\sqrt{x}}$$"
   ]
  },
  {
   "cell_type": "code",
   "execution_count": null,
   "id": "49d745be-c365-46da-800e-23de232bdb54",
   "metadata": {},
   "outputs": [],
   "source": [
    "#### 10."
   ]
  }
 ],
 "metadata": {
  "kernelspec": {
   "display_name": "Python 3",
   "language": "python",
   "name": "python3"
  },
  "language_info": {
   "codemirror_mode": {
    "name": "ipython",
    "version": 3
   },
   "file_extension": ".py",
   "mimetype": "text/x-python",
   "name": "python",
   "nbconvert_exporter": "python",
   "pygments_lexer": "ipython3",
   "version": "3.8.10"
  }
 },
 "nbformat": 4,
 "nbformat_minor": 5
}
