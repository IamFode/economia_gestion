{
 "cells": [
  {
   "cell_type": "markdown",
   "id": "dab2446c-25f9-4dd9-8d31-9466db5c785e",
   "metadata": {},
   "source": [
    "# Calculo diferencial"
   ]
  },
  {
   "cell_type": "code",
   "execution_count": 1,
   "id": "950ee7eb-4ade-48e5-8915-bea3f8746088",
   "metadata": {},
   "outputs": [],
   "source": [
    "#library\n",
    "import numpy as np\n",
    "from scipy.misc import derivative\n",
    "from sympy import *"
   ]
  },
  {
   "cell_type": "markdown",
   "id": "6c4bba6d-7f16-4b0a-9c62-07893a80119d",
   "metadata": {},
   "source": [
    "## 4.2 La pendiente de la tangente y la derivada"
   ]
  },
  {
   "cell_type": "markdown",
   "id": "11d6c6b4-cec0-45f7-9252-98982884474a",
   "metadata": {},
   "source": [
    "### Problemas"
   ]
  },
  {
   "cell_type": "markdown",
   "id": "108977db-cbd1-4f82-aa5a-4a62f7d2212e",
   "metadata": {},
   "source": [
    "#### 5."
   ]
  },
  {
   "cell_type": "markdown",
   "id": "8579ec63-4f31-4ce0-bf8a-e98361a60bad",
   "metadata": {},
   "source": [
    "##### (a)\n",
    "$$f^{'}(x)=\\dfrac{1}{x+1}$$\n",
    "\n",
    "$$f^{'}(x)=\\lim\\limits_{h\\to 0} \\dfrac{\\dfrac{1}{(x+h)+1} - \\dfrac{1}{x+1}}{h} = \\lim\\limits_{h\\to 0} \\dfrac{\\dfrac{(x+1)-(x+h+1)}{(x+1)\\left[(x+h)+1\\right]}}{h} =\\lim\\limits_{h\\to 0} \\dfrac{-1}{x^2+2hx+h+1} = \\dfrac{-1}{x^2+2hx+1}$$"
   ]
  },
  {
   "cell_type": "code",
   "execution_count": 18,
   "id": "9f032994-73ad-4870-833f-d8bccea5024f",
   "metadata": {},
   "outputs": [
    {
     "data": {
      "text/latex": [
       "$\\displaystyle - \\frac{1}{\\left(x + 1\\right)^{2}}$"
      ],
      "text/plain": [
       "-1/(x + 1)**2"
      ]
     },
     "execution_count": 18,
     "metadata": {},
     "output_type": "execute_result"
    }
   ],
   "source": [
    "# primera derivada\n",
    "x = Symbol('x')\n",
    "f = 1/(x+1)\n",
    "f.diff(x)"
   ]
  },
  {
   "cell_type": "markdown",
   "id": "56bae9a0-b39e-419f-8fc3-61b7a49e820a",
   "metadata": {},
   "source": [
    "##### (b)\n",
    "$$f(x) =x^2+3x$$"
   ]
  },
  {
   "cell_type": "code",
   "execution_count": 19,
   "id": "779f40db-cca5-4d50-b997-a5391cbfe0ff",
   "metadata": {},
   "outputs": [
    {
     "data": {
      "text/latex": [
       "$\\displaystyle 2 x + 3$"
      ],
      "text/plain": [
       "2*x + 3"
      ]
     },
     "execution_count": 19,
     "metadata": {},
     "output_type": "execute_result"
    }
   ],
   "source": [
    "# primera derivada\n",
    "x = Symbol('x')\n",
    "f = x**2 + 3*x\n",
    "f.diff(x)"
   ]
  },
  {
   "cell_type": "markdown",
   "id": "8ceb90ea-8395-43fe-b317-aa3de1da00a5",
   "metadata": {},
   "source": [
    "##### (c)\n",
    "$$f(x)=x^2-\\dfrac{2}{x}$$"
   ]
  },
  {
   "cell_type": "code",
   "execution_count": 20,
   "id": "d87af4ca-a273-4263-abce-822043d48bcd",
   "metadata": {},
   "outputs": [
    {
     "data": {
      "text/latex": [
       "$\\displaystyle 2 x + \\frac{2}{x^{2}}$"
      ],
      "text/plain": [
       "2*x + 2/x**2"
      ]
     },
     "execution_count": 20,
     "metadata": {},
     "output_type": "execute_result"
    }
   ],
   "source": [
    "# derivar\n",
    "x = Symbol('x')\n",
    "f = x**2 - (2/x)\n",
    "f.diff(x)"
   ]
  },
  {
   "cell_type": "markdown",
   "id": "315f1183-bf45-4a94-bfe0-a76f88a4c73b",
   "metadata": {},
   "source": [
    "#### 7\n",
    "##### (a)\n",
    "$$f(x) = ax^2+bx+c$$\n",
    "\n",
    "$\\displaystyle f^{'}(x) = \\lim_{h\\to 0}\\dfrac{[a(x+h)^2+b(x+h)+c]-(ax^2+bx+c)}{h} = \\lim_{h\\to 0}\\dfrac{h(2xa+ah+b)}{h} = \\lim_{h\\to 0} 2ax + b + ah = 2ax+b$"
   ]
  },
  {
   "cell_type": "markdown",
   "id": "b7ac82d5-d805-4fce-9032-1660f2c38b32",
   "metadata": {},
   "source": [
    "##### (b) \n",
    "$$2ax + b = 0 \\Longrightarrow x = -\\dfrac{b}{2a}$$"
   ]
  },
  {
   "cell_type": "markdown",
   "id": "30b334d8-4162-4757-b76d-44bec3216539",
   "metadata": {},
   "source": [
    "#### 8.\n",
    "\n",
    "##### (a)\n",
    "\n",
    "$$D(P) = a * bP$$\n",
    "\n",
    "$$D^{'}(P) = \\displaystyle\\lim_{h\\to 0} \\dfrac{a-b(P+h)-(a-bP)}{h} = \\lim_{h\\to 0} \\dfrac{-hb}{h} = -b$$"
   ]
  },
  {
   "cell_type": "markdown",
   "id": "ef416761-53e5-470e-ac5c-4533930836d2",
   "metadata": {},
   "source": [
    "##### (b)\n",
    "\n",
    "$$C(x) = p +qx^2$$\n",
    "\n",
    "$$C^{'}(x) = \\displaystyle\\lim_{h\\to 0} \\dfrac{p+q(x+h)^2 -p - qx^2}{h} = \\lim_{h\\to 0} 2qx + qh = 2qx$$"
   ]
  },
  {
   "cell_type": "markdown",
   "id": "149206d4-2a84-4024-8583-f13be027d883",
   "metadata": {},
   "source": [
    "#### 9.\n",
    "\n",
    "##### (a)\n",
    "\n",
    "$$\\left(\\sqrt{x+h} - \\sqrt{x}\\right)\\left(\\sqrt{x+h} + \\sqrt{x}\\right) = \\left(\\sqrt{x+h}\\right)^2-\\left(\\sqrt{x}\\right)^2 = h$$"
   ]
  },
  {
   "cell_type": "markdown",
   "id": "dab5ad95-c53d-42f8-a9b5-9547527e2555",
   "metadata": {},
   "source": [
    "##### (b), (c)\n",
    "\n",
    "$$f(x) = \\sqrt{x}$$\n",
    "\n",
    "$$\\displaystyle f^{'}(x) = \\lim_{h\\to 0} \\dfrac{\\sqrt{x+h}-\\sqrt{x}}{h} \\cdot \\dfrac{\\sqrt{x+h}+\\sqrt{x}}{\\left(\\sqrt{x+h}+\\sqrt{x}\\right)h} = \\displaystyle\\lim_{h\\to 0} \\dfrac{x+h-x}{\\left(\\sqrt{x+h}+\\sqrt{x}\\right)h} = \\dfrac{1}{2\\sqrt{x}}$$"
   ]
  },
  {
   "cell_type": "markdown",
   "id": "8a1aad9f-c7a9-40f2-8f65-fd8720edaa4f",
   "metadata": {},
   "source": [
    "## 4.3 Tasas de variación y su significado económico"
   ]
  },
  {
   "cell_type": "markdown",
   "id": "9f4c1ba2-54f7-49f9-b47b-032a4d8b2c9c",
   "metadata": {},
   "source": [
    "### Problemas"
   ]
  },
  {
   "cell_type": "markdown",
   "id": "5215196f-df5a-4353-b008-4323d8c88885",
   "metadata": {},
   "source": [
    "#### 1.\n",
    "\n"
   ]
  },
  {
   "cell_type": "code",
   "execution_count": 5,
   "id": "327c8320-4b36-4520-8ecd-135fadae1009",
   "metadata": {},
   "outputs": [
    {
     "data": {
      "text/plain": [
       "203.0"
      ]
     },
     "execution_count": 5,
     "metadata": {},
     "output_type": "execute_result"
    }
   ],
   "source": [
    "f = lambda x: x**2 + 3*x + 100\n",
    "derivative(f,100)"
   ]
  },
  {
   "cell_type": "markdown",
   "id": "40000d88-f5cb-4466-9c18-b7e1a73e54cc",
   "metadata": {},
   "source": [
    "#### 3.\n",
    "\n",
    "##### (a)\n",
    "\n",
    "S$(Y) = a+bY$$"
   ]
  },
  {
   "cell_type": "code",
   "execution_count": 12,
   "id": "5b69a4c7-787d-4db7-bb48-a037f0afe627",
   "metadata": {},
   "outputs": [
    {
     "data": {
      "text/latex": [
       "$\\displaystyle b$"
      ],
      "text/plain": [
       "b"
      ]
     },
     "execution_count": 12,
     "metadata": {},
     "output_type": "execute_result"
    }
   ],
   "source": [
    "# propensió marginal de ahorro \n",
    "x = Symbol('x')\n",
    "a = Symbol('a')\n",
    "b = Symbol('b')\n",
    "f = a+b*x \n",
    "f.diff(x)"
   ]
  },
  {
   "cell_type": "code",
   "execution_count": null,
   "id": "02ce8255-bd10-4ca9-9f23-c2d737b81bee",
   "metadata": {},
   "outputs": [],
   "source": [
    "##### (b)"
   ]
  },
  {
   "cell_type": "code",
   "execution_count": 15,
   "id": "7b06dfc2-8c65-42ba-bd20-46a290bc2bda",
   "metadata": {},
   "outputs": [
    {
     "data": {
      "text/latex": [
       "$\\displaystyle 4 Y + 10$"
      ],
      "text/plain": [
       "4*Y + 10"
      ]
     },
     "execution_count": 15,
     "metadata": {},
     "output_type": "execute_result"
    }
   ],
   "source": [
    "# propensió marginal de ahorro \n",
    "Y = Symbol('Y')\n",
    "f = 100+10*Y + 2*Y**2\n",
    "f.diff(Y)"
   ]
  },
  {
   "cell_type": "markdown",
   "id": "41c9feb7-97bb-4f78-a23d-1da25bdab157",
   "metadata": {},
   "source": [
    "#### 4."
   ]
  },
  {
   "cell_type": "code",
   "execution_count": 19,
   "id": "7378d54c-27eb-4118-afc4-bcf076689c65",
   "metadata": {},
   "outputs": [
    {
     "data": {
      "text/latex": [
       "$\\displaystyle t$"
      ],
      "text/plain": [
       "t"
      ]
     },
     "execution_count": 19,
     "metadata": {},
     "output_type": "execute_result"
    }
   ],
   "source": [
    "# tasa marginal de impuesto\n",
    "y = Symbol('y')\n",
    "t = Symbol('t')\n",
    "T = t*y \n",
    "T.diff(y)"
   ]
  },
  {
   "cell_type": "markdown",
   "id": "7d2bd59e-e0a6-43fa-878e-2894f5cde6c7",
   "metadata": {},
   "source": [
    "#### 5.\n",
    "\n",
    "##### (a)"
   ]
  },
  {
   "cell_type": "code",
   "execution_count": 38,
   "id": "2e54a59a-44bd-456f-a967-9a74eb329689",
   "metadata": {},
   "outputs": [],
   "source": [
    "x = Symbol('x')\n",
    "p = Symbol('p')\n",
    "a = Symbol('a')\n",
    "b = Symbol('b')\n",
    "c = Symbol('c')\n",
    "d = Symbol('d')"
   ]
  },
  {
   "cell_type": "code",
   "execution_count": 37,
   "id": "3fa481e7-9845-4c9e-8a1b-98f30882cf01",
   "metadata": {},
   "outputs": [
    {
     "name": "stdout",
     "output_type": "stream",
     "text": [
      "R'x = p\n",
      "C'x = 2*a*x + b\n",
      "bx = 2*a*x + b + p\n"
     ]
    }
   ],
   "source": [
    "#formulas\n",
    "Rx = p*x\n",
    "Cx = a*x**2 + b*x + c\n",
    "Bx = Rx + Cx\n",
    "# ingreso marginal\n",
    "print(\"R'x =\",Rx.diff(x))\n",
    "# coste marginal\n",
    "print(\"C'x =\",Cx.diff(x))\n",
    "# beneficio marginal \n",
    "print(\"bx =\",Bx.diff(x))"
   ]
  },
  {
   "cell_type": "code",
   "execution_count": 40,
   "id": "34b4f306-94df-4f1e-85f5-f2e024162b77",
   "metadata": {},
   "outputs": [
    {
     "name": "stdout",
     "output_type": "stream",
     "text": [
      "R'x = 2*b*x + 2*x\n",
      "C'x = c\n",
      "bx = 2*b*x + c + 2*x\n"
     ]
    }
   ],
   "source": [
    "#formulas\n",
    "Rx = x*x +b*x**2\n",
    "Cx = c*x + d \n",
    "Bx = Rx + Cx\n",
    "# ingreso marginal\n",
    "print(\"R'x =\",Rx.diff(x))\n",
    "# coste marginal\n",
    "print(\"C'x =\",Cx.diff(x))\n",
    "# beneficio marginal \n",
    "print(\"bx =\",Bx.diff(x))"
   ]
  },
  {
   "cell_type": "markdown",
   "id": "bcd7c87f-988a-4081-8b7b-e712c39e7d78",
   "metadata": {},
   "source": [
    "## 4.4 Una pincelada sobre límites"
   ]
  },
  {
   "cell_type": "markdown",
   "id": "ae7fbd99-0937-43b7-9b68-defb0b338f4a",
   "metadata": {},
   "source": [
    "### Problemas"
   ]
  },
  {
   "cell_type": "markdown",
   "id": "461870eb-47d7-408f-8748-61f19f93d484",
   "metadata": {},
   "source": [
    "#### 1.\n",
    "\n",
    "##### (a)"
   ]
  },
  {
   "cell_type": "code",
   "execution_count": 46,
   "id": "7303e21e-494c-48b8-8eb6-ff81c07f6ef6",
   "metadata": {},
   "outputs": [
    {
     "data": {
      "text/latex": [
       "$\\displaystyle 3$"
      ],
      "text/plain": [
       "3"
      ]
     },
     "execution_count": 46,
     "metadata": {},
     "output_type": "execute_result"
    }
   ],
   "source": [
    "# limites \n",
    "x = Symbol('x')\n",
    "f = 3+2*x**2\n",
    "limit(f,x,0)"
   ]
  },
  {
   "cell_type": "markdown",
   "id": "8d8625aa-3ef4-40ca-95a8-5f634e533757",
   "metadata": {},
   "source": [
    "##### (b)"
   ]
  },
  {
   "cell_type": "code",
   "execution_count": 52,
   "id": "e3286a47-6c91-4a9f-a58a-7e9fe6b3d65e",
   "metadata": {},
   "outputs": [
    {
     "data": {
      "text/latex": [
       "$\\displaystyle - \\frac{1}{2}$"
      ],
      "text/plain": [
       "-1/2"
      ]
     },
     "execution_count": 52,
     "metadata": {},
     "output_type": "execute_result"
    }
   ],
   "source": [
    "# limites \n",
    "x = Symbol('x')\n",
    "f = (3+2*x)/(x-1) \n",
    "limit(f,x,-1)"
   ]
  },
  {
   "cell_type": "markdown",
   "id": "18c8817f-9cfb-4b3c-b206-6d95114833c6",
   "metadata": {},
   "source": [
    "##### (c)"
   ]
  },
  {
   "cell_type": "code",
   "execution_count": 54,
   "id": "4dffc115-7f68-48d9-acbd-888478b83be4",
   "metadata": {},
   "outputs": [
    {
     "data": {
      "text/latex": [
       "$\\displaystyle 2197$"
      ],
      "text/plain": [
       "2197"
      ]
     },
     "execution_count": 54,
     "metadata": {},
     "output_type": "execute_result"
    }
   ],
   "source": [
    "# limites \n",
    "x = Symbol('x')\n",
    "f = (2*x**2 + 5)**3\n",
    "limit(f,x,2)"
   ]
  },
  {
   "cell_type": "markdown",
   "id": "f15f378a-ae3e-4b4c-b44c-44f165147d03",
   "metadata": {},
   "source": [
    "##### (d)"
   ]
  },
  {
   "cell_type": "code",
   "execution_count": 57,
   "id": "05de1844-f219-45bb-b834-d75cc5732b86",
   "metadata": {},
   "outputs": [
    {
     "data": {
      "text/latex": [
       "$\\displaystyle 40.0$"
      ],
      "text/plain": [
       "40.0000000000000"
      ]
     },
     "execution_count": 57,
     "metadata": {},
     "output_type": "execute_result"
    }
   ],
   "source": [
    "# limites \n",
    "t = Symbol('t')\n",
    "f = 5*t +t**2 - 1/8 *t**3 \n",
    "limit(f,t,8)"
   ]
  },
  {
   "cell_type": "markdown",
   "id": "4cb2c58a-e651-4f07-9d7e-5a141e08af85",
   "metadata": {},
   "source": [
    "#### (e)"
   ]
  },
  {
   "cell_type": "code",
   "execution_count": 62,
   "id": "b028ca31-f232-4a93-9118-875d8fe26cee",
   "metadata": {},
   "outputs": [
    {
     "data": {
      "text/latex": [
       "$\\displaystyle 1$"
      ],
      "text/plain": [
       "1"
      ]
     },
     "execution_count": 62,
     "metadata": {},
     "output_type": "execute_result"
    }
   ],
   "source": [
    "# limites \n",
    "y = Symbol('y')\n",
    "f = ((y+1)**5)-y**5/(y+1)\n",
    "limit(f,y,0)"
   ]
  },
  {
   "cell_type": "markdown",
   "id": "8e281055-33ea-4962-a71f-785e101e943f",
   "metadata": {},
   "source": [
    "##### (f)"
   ]
  },
  {
   "cell_type": "code",
   "execution_count": 60,
   "id": "79fd91b7-6937-4ec9-8fec-96cc5ff81c91",
   "metadata": {},
   "outputs": [
    {
     "data": {
      "text/latex": [
       "$\\displaystyle - \\frac{3}{4}$"
      ],
      "text/plain": [
       "-3/4"
      ]
     },
     "execution_count": 60,
     "metadata": {},
     "output_type": "execute_result"
    }
   ],
   "source": [
    "# limites \n",
    "z = Symbol('z')\n",
    "f = (1/z+2)/z \n",
    "limit(f,z,-2)"
   ]
  },
  {
   "cell_type": "markdown",
   "id": "f65a38de-8cfe-45d6-b112-c064fba4d315",
   "metadata": {},
   "source": [
    "#### 5.\n",
    "\n",
    "##### (a)"
   ]
  },
  {
   "cell_type": "code",
   "execution_count": 70,
   "id": "1b825caf-0387-45dd-8f7c-e6a54911bf87",
   "metadata": {},
   "outputs": [
    {
     "data": {
      "text/latex": [
       "$\\displaystyle -7$"
      ],
      "text/plain": [
       "-7"
      ]
     },
     "execution_count": 70,
     "metadata": {},
     "output_type": "execute_result"
    }
   ],
   "source": [
    "# limites \n",
    "x = Symbol('x')\n",
    "f = x**2 + 3*x - 5\n",
    "limit(f,x,-2)"
   ]
  },
  {
   "cell_type": "markdown",
   "id": "f57407fb-8a9c-46b4-8027-d164da0d5b58",
   "metadata": {},
   "source": [
    "##### (b)"
   ]
  },
  {
   "cell_type": "code",
   "execution_count": 73,
   "id": "8779b4bf-2640-44c4-bde1-5ec6a7f2cf6e",
   "metadata": {},
   "outputs": [
    {
     "data": {
      "text/latex": [
       "$\\displaystyle \\frac{1}{5}$"
      ],
      "text/plain": [
       "1/5"
      ]
     },
     "execution_count": 73,
     "metadata": {},
     "output_type": "execute_result"
    }
   ],
   "source": [
    "# limites \n",
    "x = Symbol('x')\n",
    "f = 1/(x+8) \n",
    "limit(f,x,-3)"
   ]
  },
  {
   "cell_type": "markdown",
   "id": "9302c5c6-82e6-464d-a282-c37cf26a49b8",
   "metadata": {},
   "source": [
    "##### (c)"
   ]
  },
  {
   "cell_type": "code",
   "execution_count": 74,
   "id": "2151bbe5-fca7-4d78-aef9-41679e970ee4",
   "metadata": {},
   "outputs": [
    {
     "data": {
      "text/latex": [
       "$\\displaystyle 1$"
      ],
      "text/plain": [
       "1"
      ]
     },
     "execution_count": 74,
     "metadata": {},
     "output_type": "execute_result"
    }
   ],
   "source": [
    "# limites \n",
    "x = Symbol('x')\n",
    "f = (x**3 - 2*x - 1)/(x**5 - x**2 - 1)\n",
    "limit(f,x,0)"
   ]
  },
  {
   "cell_type": "markdown",
   "id": "b7941511-5265-41ab-8238-5b12b74177ca",
   "metadata": {},
   "source": [
    "##### (d)"
   ]
  },
  {
   "cell_type": "code",
   "execution_count": 75,
   "id": "be879215-79be-444a-8c58-a2e239d25a0e",
   "metadata": {},
   "outputs": [
    {
     "data": {
      "text/latex": [
       "$\\displaystyle 1$"
      ],
      "text/plain": [
       "1"
      ]
     },
     "execution_count": 75,
     "metadata": {},
     "output_type": "execute_result"
    }
   ],
   "source": [
    "# limites \n",
    "x = Symbol('x')\n",
    "f = (x*+3 + 3*x**2-2*x)/x \n",
    "limit(f,x,0)"
   ]
  },
  {
   "cell_type": "markdown",
   "id": "8a7c2c7a-1782-4df9-b275-959be9e1dd04",
   "metadata": {},
   "source": [
    "##### (e)"
   ]
  },
  {
   "cell_type": "code",
   "execution_count": 77,
   "id": "24f92ae0-7f72-4e2f-80c8-c32770ca07fd",
   "metadata": {},
   "outputs": [
    {
     "data": {
      "text/latex": [
       "$\\displaystyle x^{2} \\left(x - 1\\right)$"
      ],
      "text/plain": [
       "x**2*(x - 1)"
      ]
     },
     "execution_count": 77,
     "metadata": {},
     "output_type": "execute_result"
    }
   ],
   "source": [
    "# limites \n",
    "x = Symbol('x')\n",
    "h = Symbol('h')\n",
    "f = ((x+h)**3)-x**3/x\n",
    "limit(f,h,0)"
   ]
  },
  {
   "cell_type": "markdown",
   "id": "82b03298-f133-4ebf-b318-02dc742dee2b",
   "metadata": {},
   "source": [
    "##### (f)"
   ]
  },
  {
   "cell_type": "code",
   "execution_count": 78,
   "id": "380724ba-b0ad-4a72-ac76-3c53118b3b9e",
   "metadata": {},
   "outputs": [
    {
     "data": {
      "text/latex": [
       "$\\displaystyle 3 x^{2}$"
      ],
      "text/plain": [
       "3*x**2"
      ]
     },
     "execution_count": 78,
     "metadata": {},
     "output_type": "execute_result"
    }
   ],
   "source": [
    "# limites \n",
    "x = Symbol('x')\n",
    "h = Symbol('h')\n",
    "f = ((x+h)**3-x**3)/h\n",
    "limit(f,h,0)"
   ]
  },
  {
   "cell_type": "markdown",
   "id": "d6705321-4ccf-48ee-894d-d88743ded566",
   "metadata": {},
   "source": [
    "## 4.5 reglas sencillas de derivación"
   ]
  },
  {
   "cell_type": "markdown",
   "id": "c5d80769-ab6c-4019-861f-27664a59b70f",
   "metadata": {},
   "source": [
    "### Problemas"
   ]
  },
  {
   "cell_type": "markdown",
   "id": "76b54ad4-b774-44f6-b862-df4a1cc91a32",
   "metadata": {},
   "source": [
    "#### 1.\n",
    "\n",
    "##### (a)"
   ]
  },
  {
   "cell_type": "code",
   "execution_count": null,
   "id": "a312b92a-f253-481f-8875-780623b15682",
   "metadata": {},
   "outputs": [],
   "source": []
  },
  {
   "cell_type": "code",
   "execution_count": null,
   "id": "0fea61bf-6c2a-4321-9184-1d24b36375e2",
   "metadata": {},
   "outputs": [],
   "source": []
  },
  {
   "cell_type": "code",
   "execution_count": null,
   "id": "8dab93f5-e2a7-43aa-80b8-038a3bedc786",
   "metadata": {},
   "outputs": [],
   "source": []
  },
  {
   "cell_type": "code",
   "execution_count": null,
   "id": "db1daa25-e88f-4366-9ed2-049887debed3",
   "metadata": {},
   "outputs": [],
   "source": []
  },
  {
   "cell_type": "code",
   "execution_count": null,
   "id": "337ef5b7-1ed2-4e51-bea4-a9c34366a788",
   "metadata": {},
   "outputs": [],
   "source": [
    "#### 3."
   ]
  },
  {
   "cell_type": "markdown",
   "id": "efca32e4-9bd2-4879-84ee-de814c8cb886",
   "metadata": {},
   "source": [
    "##### (a)"
   ]
  },
  {
   "cell_type": "code",
   "execution_count": 21,
   "id": "c7285c46-cb6e-4ff7-b687-3e836d9060c7",
   "metadata": {},
   "outputs": [],
   "source": [
    "x = Symbol('x')"
   ]
  },
  {
   "cell_type": "code",
   "execution_count": 11,
   "id": "a0f3cf49-f775-4d35-82fa-c62b9305ab22",
   "metadata": {},
   "outputs": [
    {
     "data": {
      "text/latex": [
       "$\\displaystyle 6 x^{5}$"
      ],
      "text/plain": [
       "6*x**5"
      ]
     },
     "execution_count": 11,
     "metadata": {},
     "output_type": "execute_result"
    }
   ],
   "source": [
    "f = x**6\n",
    "f.diff(x)"
   ]
  },
  {
   "cell_type": "markdown",
   "id": "bbc1262c-5772-482b-930a-bbb0e8649d35",
   "metadata": {},
   "source": [
    "##### (b)"
   ]
  },
  {
   "cell_type": "code",
   "execution_count": 12,
   "id": "4313c5a1-c8cc-49d8-8df5-a4e5575f0afd",
   "metadata": {},
   "outputs": [
    {
     "data": {
      "text/latex": [
       "$\\displaystyle 33 x^{10}$"
      ],
      "text/plain": [
       "33*x**10"
      ]
     },
     "execution_count": 12,
     "metadata": {},
     "output_type": "execute_result"
    }
   ],
   "source": [
    "f = 3*x**11\n",
    "f.diff(x)"
   ]
  },
  {
   "cell_type": "code",
   "execution_count": 26,
   "id": "79377908-cda5-4f8c-a60b-9afa0332f701",
   "metadata": {},
   "outputs": [],
   "source": [
    "#### 3."
   ]
  },
  {
   "cell_type": "markdown",
   "id": "2c622c5e-7619-4360-9212-cc53927839e1",
   "metadata": {},
   "source": [
    "##### (h)"
   ]
  },
  {
   "cell_type": "code",
   "execution_count": 27,
   "id": "a5896ecf-ecf6-439a-9651-2bffc2e75bf6",
   "metadata": {},
   "outputs": [
    {
     "data": {
      "text/latex": [
       "$\\displaystyle \\frac{3.0}{x^{2.5}}$"
      ],
      "text/plain": [
       "3.0*x**(-2.5)"
      ]
     },
     "execution_count": 27,
     "metadata": {},
     "output_type": "execute_result"
    }
   ],
   "source": [
    "f = -2/(x*x**(1/2))\n",
    "f.diff(x)"
   ]
  },
  {
   "cell_type": "markdown",
   "id": "11086c08-1dc8-4bbd-a022-2436e1bb5986",
   "metadata": {},
   "source": [
    "#### 4.\n",
    "\n",
    "##### (a)"
   ]
  },
  {
   "cell_type": "code",
   "execution_count": 29,
   "id": "1cb99876-c345-4513-86c9-c49f6d8b3328",
   "metadata": {},
   "outputs": [
    {
     "data": {
      "text/latex": [
       "$\\displaystyle 25.1327412287183 x$"
      ],
      "text/plain": [
       "25.1327412287183*x"
      ]
     },
     "execution_count": 29,
     "metadata": {},
     "output_type": "execute_result"
    }
   ],
   "source": [
    "f = 4*np.pi*x**2\n",
    "f.diff(x)"
   ]
  },
  {
   "cell_type": "markdown",
   "id": "ed8710e4-36bd-49f8-8ada-a397ba5d61f9",
   "metadata": {},
   "source": [
    "## 4.6 Derivación de sumas, productos y cocientes"
   ]
  },
  {
   "cell_type": "markdown",
   "id": "57e79b79-aded-464a-90d6-f58464a84a1f",
   "metadata": {},
   "source": [
    "### Problemas "
   ]
  },
  {
   "cell_type": "code",
   "execution_count": null,
   "id": "8b66bcba-bf3a-40c5-9304-9be4be0af2e8",
   "metadata": {},
   "outputs": [],
   "source": []
  }
 ],
 "metadata": {
  "kernelspec": {
   "display_name": "Python 3",
   "language": "python",
   "name": "python3"
  },
  "language_info": {
   "codemirror_mode": {
    "name": "ipython",
    "version": 3
   },
   "file_extension": ".py",
   "mimetype": "text/x-python",
   "name": "python",
   "nbconvert_exporter": "python",
   "pygments_lexer": "ipython3",
   "version": "3.8.10"
  }
 },
 "nbformat": 4,
 "nbformat_minor": 5
}
